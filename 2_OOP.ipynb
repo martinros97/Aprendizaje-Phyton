{
  "nbformat": 4,
  "nbformat_minor": 0,
  "metadata": {
    "colab": {
      "provenance": [],
      "authorship_tag": "ABX9TyMdGZhTnMs1ZRlIvss1QCv0",
      "include_colab_link": true
    },
    "kernelspec": {
      "name": "python3",
      "display_name": "Python 3"
    },
    "language_info": {
      "name": "python"
    }
  },
  "cells": [
    {
      "cell_type": "markdown",
      "metadata": {
        "id": "view-in-github",
        "colab_type": "text"
      },
      "source": [
        "<a href=\"https://colab.research.google.com/github/martinros97/Aprendizaje-Phyton/blob/main/2_OOP.ipynb\" target=\"_parent\"><img src=\"https://colab.research.google.com/assets/colab-badge.svg\" alt=\"Open In Colab\"/></a>"
      ]
    },
    {
      "cell_type": "code",
      "execution_count": 11,
      "metadata": {
        "id": "wGNi_qoZVaaX"
      },
      "outputs": [],
      "source": [
        "class Car:\n",
        "  def __init__(self, year):\n",
        "    self.year= year\n",
        "  \n",
        "  num_wheels = 4\n"
      ]
    },
    {
      "cell_type": "code",
      "source": [
        "Car_2022 = Car(2022)\n",
        "\n",
        "Car_2022.num_wheels"
      ],
      "metadata": {
        "colab": {
          "base_uri": "https://localhost:8080/"
        },
        "id": "qzPJNiZ1WNe7",
        "outputId": "302bc1be-d623-4ac7-de4b-d0b918eb98ed"
      },
      "execution_count": 12,
      "outputs": [
        {
          "output_type": "execute_result",
          "data": {
            "text/plain": [
              "4"
            ]
          },
          "metadata": {},
          "execution_count": 12
        }
      ]
    },
    {
      "cell_type": "markdown",
      "source": [
        "Para la primera instancia donde se define la clase, si queremos un atributo puntual de algo, lo ponemos con el def.\n",
        "\n",
        "Si queremos uno transversal lo metemos como atributo, como se ve con el de ruedas"
      ],
      "metadata": {
        "id": "SnpkLy6cXtT1"
      }
    }
  ]
}