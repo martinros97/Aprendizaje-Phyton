{
  "nbformat": 4,
  "nbformat_minor": 0,
  "metadata": {
    "colab": {
      "provenance": [],
      "authorship_tag": "ABX9TyMB6w8KXby58IfClidEVZ3Z",
      "include_colab_link": true
    },
    "kernelspec": {
      "name": "python3",
      "display_name": "Python 3"
    },
    "language_info": {
      "name": "python"
    }
  },
  "cells": [
    {
      "cell_type": "markdown",
      "metadata": {
        "id": "view-in-github",
        "colab_type": "text"
      },
      "source": [
        "<a href=\"https://colab.research.google.com/github/martinros97/Aprendizaje-Phyton/blob/main/1_Funciones.ipynb\" target=\"_parent\"><img src=\"https://colab.research.google.com/assets/colab-badge.svg\" alt=\"Open In Colab\"/></a>"
      ]
    },
    {
      "cell_type": "markdown",
      "source": [
        "Definicion"
      ],
      "metadata": {
        "id": "hM7_SmpGGBYY"
      }
    },
    {
      "cell_type": "code",
      "execution_count": null,
      "metadata": {
        "id": "rjNRJOyTEnYK"
      },
      "outputs": [],
      "source": [
        "def sum(x,y):\n",
        "\n",
        "  result = x+y\n",
        "\n",
        "  return(result)\n",
        "  "
      ]
    },
    {
      "cell_type": "markdown",
      "source": [
        "Llamada a la funcion"
      ],
      "metadata": {
        "id": "c-m15OEyF_9d"
      }
    },
    {
      "cell_type": "code",
      "source": [
        "print(sum(4,5))"
      ],
      "metadata": {
        "colab": {
          "base_uri": "https://localhost:8080/"
        },
        "id": "7rTofqEMGHxF",
        "outputId": "1f1dc3df-b188-4a0d-eb2b-42803b0ad673"
      },
      "execution_count": null,
      "outputs": [
        {
          "output_type": "stream",
          "name": "stdout",
          "text": [
            "9\n"
          ]
        }
      ]
    }
  ]
}